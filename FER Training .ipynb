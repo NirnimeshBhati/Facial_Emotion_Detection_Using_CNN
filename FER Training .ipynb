{
 "cells": [
  {
   "cell_type": "code",
   "execution_count": 1,
   "id": "b99c4c97",
   "metadata": {},
   "outputs": [],
   "source": [
    "# import required packages\n",
    "import cv2\n",
    "from keras.models import Sequential\n",
    "from keras.layers import Conv2D, MaxPooling2D, Dense, Dropout, Flatten\n",
    "from keras.optimizers import Adam , schedules\n",
    "from tensorflow.keras.optimizers.schedules import ExponentialDecay\n",
    "from keras.preprocessing.image import ImageDataGenerator"
   ]
  },
  {
   "cell_type": "code",
   "execution_count": 2,
   "id": "2e4e54e0",
   "metadata": {},
   "outputs": [],
   "source": [
    "# Initialize image data generator with rescaling\n",
    "train_data_gen = ImageDataGenerator(rescale=1./255)\n",
    "validation_data_gen = ImageDataGenerator(rescale=1./255)\n"
   ]
  },
  {
   "cell_type": "code",
   "execution_count": 3,
   "id": "0fcc1555",
   "metadata": {},
   "outputs": [
    {
     "name": "stdout",
     "output_type": "stream",
     "text": [
      "Found 28709 images belonging to 7 classes.\n"
     ]
    }
   ],
   "source": [
    "# Preprocess all test images\n",
    "train_generator = train_data_gen.flow_from_directory(\n",
    "        'data/train',\n",
    "        target_size=(48, 48),\n",
    "        batch_size=64,\n",
    "        color_mode=\"grayscale\",\n",
    "        class_mode='categorical')\n"
   ]
  },
  {
   "cell_type": "code",
   "execution_count": 4,
   "id": "34018f8f",
   "metadata": {},
   "outputs": [
    {
     "name": "stdout",
     "output_type": "stream",
     "text": [
      "Found 7178 images belonging to 7 classes.\n"
     ]
    }
   ],
   "source": [
    "# Preprocess all train images\n",
    "validation_generator = validation_data_gen.flow_from_directory(\n",
    "        'data/test',\n",
    "        target_size=(48, 48),\n",
    "        batch_size=64,\n",
    "        color_mode=\"grayscale\",\n",
    "        class_mode='categorical')"
   ]
  },
  {
   "cell_type": "code",
   "execution_count": 5,
   "id": "d5e7bda9",
   "metadata": {},
   "outputs": [],
   "source": [
    "# Create model structure\n",
    "emotion_model = Sequential()\n",
    "\n",
    "emotion_model.add(Conv2D(32, kernel_size=(3, 3), activation='relu', input_shape=(48, 48, 1)))\n",
    "emotion_model.add(Conv2D(64, kernel_size=(3, 3), activation='relu'))\n",
    "emotion_model.add(MaxPooling2D(pool_size=(2, 2)))\n",
    "emotion_model.add(Dropout(0.25))\n",
    "\n",
    "emotion_model.add(Conv2D(128, kernel_size=(3, 3), activation='relu'))\n",
    "emotion_model.add(MaxPooling2D(pool_size=(2, 2)))\n",
    "emotion_model.add(Conv2D(128, kernel_size=(3, 3), activation='relu'))\n",
    "emotion_model.add(MaxPooling2D(pool_size=(2, 2)))\n",
    "emotion_model.add(Dropout(0.25))\n",
    "\n",
    "emotion_model.add(Flatten())\n",
    "emotion_model.add(Dense(1024, activation='relu'))\n",
    "emotion_model.add(Dropout(0.5))\n",
    "emotion_model.add(Dense(7, activation='softmax'))\n",
    "\n",
    "cv2.ocl.setUseOpenCL(False)\n",
    "\n",
    "# Set the learning rate schedule with ExponentialDecay\n",
    "initial_learning_rate = 0.0001\n",
    "decay_steps = 10000\n",
    "decay_rate = 0.96\n",
    "decay_learning_rate = ExponentialDecay(initial_learning_rate, decay_steps, decay_rate)\n",
    "\n",
    "# Create the Adam optimizer with the learning rate schedule\n",
    "optimizer = Adam(learning_rate=decay_learning_rate)\n",
    "\n",
    "# Compile the model with the optimizer\n",
    "emotion_model.compile(loss='categorical_crossentropy', optimizer=optimizer, metrics=['accuracy'])\n"
   ]
  },
  {
   "cell_type": "code",
   "execution_count": 6,
   "id": "04260297",
   "metadata": {},
   "outputs": [
    {
     "name": "stderr",
     "output_type": "stream",
     "text": [
      "C:\\Users\\nirni\\AppData\\Local\\Temp\\ipykernel_13240\\3198193097.py:2: UserWarning: `Model.fit_generator` is deprecated and will be removed in a future version. Please use `Model.fit`, which supports generators.\n",
      "  emotion_model_info = emotion_model.fit_generator(\n"
     ]
    },
    {
     "name": "stdout",
     "output_type": "stream",
     "text": [
      "Epoch 1/50\n",
      "448/448 [==============================] - 280s 623ms/step - loss: 1.8093 - accuracy: 0.2539 - val_loss: 1.7369 - val_accuracy: 0.2966\n",
      "Epoch 2/50\n",
      "448/448 [==============================] - 275s 615ms/step - loss: 1.6469 - accuracy: 0.3588 - val_loss: 1.5746 - val_accuracy: 0.3894\n",
      "Epoch 3/50\n",
      "448/448 [==============================] - 280s 625ms/step - loss: 1.5492 - accuracy: 0.4021 - val_loss: 1.4889 - val_accuracy: 0.4315\n",
      "Epoch 4/50\n",
      "448/448 [==============================] - 259s 578ms/step - loss: 1.4778 - accuracy: 0.4327 - val_loss: 1.4134 - val_accuracy: 0.4636\n",
      "Epoch 5/50\n",
      "448/448 [==============================] - 260s 581ms/step - loss: 1.4092 - accuracy: 0.4598 - val_loss: 1.3546 - val_accuracy: 0.4873\n",
      "Epoch 6/50\n",
      "448/448 [==============================] - 244s 545ms/step - loss: 1.3546 - accuracy: 0.4849 - val_loss: 1.3219 - val_accuracy: 0.4999\n",
      "Epoch 7/50\n",
      "448/448 [==============================] - 237s 529ms/step - loss: 1.3086 - accuracy: 0.5062 - val_loss: 1.2901 - val_accuracy: 0.5121\n",
      "Epoch 8/50\n",
      "448/448 [==============================] - 258s 576ms/step - loss: 1.2652 - accuracy: 0.5225 - val_loss: 1.2485 - val_accuracy: 0.5247\n",
      "Epoch 9/50\n",
      "448/448 [==============================] - 241s 539ms/step - loss: 1.2336 - accuracy: 0.5368 - val_loss: 1.2273 - val_accuracy: 0.5342\n",
      "Epoch 10/50\n",
      "448/448 [==============================] - 240s 536ms/step - loss: 1.2019 - accuracy: 0.5453 - val_loss: 1.1980 - val_accuracy: 0.5469\n",
      "Epoch 11/50\n",
      "448/448 [==============================] - 227s 506ms/step - loss: 1.1749 - accuracy: 0.5552 - val_loss: 1.1877 - val_accuracy: 0.5508\n",
      "Epoch 12/50\n",
      "448/448 [==============================] - 233s 521ms/step - loss: 1.1495 - accuracy: 0.5709 - val_loss: 1.1639 - val_accuracy: 0.5612\n",
      "Epoch 13/50\n",
      "448/448 [==============================] - 228s 510ms/step - loss: 1.1226 - accuracy: 0.5784 - val_loss: 1.1456 - val_accuracy: 0.5654\n",
      "Epoch 14/50\n",
      "448/448 [==============================] - 270s 602ms/step - loss: 1.0966 - accuracy: 0.5893 - val_loss: 1.1486 - val_accuracy: 0.5657\n",
      "Epoch 15/50\n",
      "448/448 [==============================] - 257s 574ms/step - loss: 1.0704 - accuracy: 0.6002 - val_loss: 1.1309 - val_accuracy: 0.5756\n",
      "Epoch 16/50\n",
      "448/448 [==============================] - 262s 585ms/step - loss: 1.0522 - accuracy: 0.6076 - val_loss: 1.1309 - val_accuracy: 0.5714\n",
      "Epoch 17/50\n",
      "448/448 [==============================] - 209s 466ms/step - loss: 1.0329 - accuracy: 0.6181 - val_loss: 1.1010 - val_accuracy: 0.5894\n",
      "Epoch 18/50\n",
      "448/448 [==============================] - 630s 1s/step - loss: 1.0057 - accuracy: 0.6293 - val_loss: 1.1013 - val_accuracy: 0.5890\n",
      "Epoch 19/50\n",
      "448/448 [==============================] - 159s 356ms/step - loss: 0.9873 - accuracy: 0.6319 - val_loss: 1.0839 - val_accuracy: 0.5939\n",
      "Epoch 20/50\n",
      "448/448 [==============================] - 236s 526ms/step - loss: 0.9637 - accuracy: 0.6435 - val_loss: 1.0856 - val_accuracy: 0.5963\n",
      "Epoch 21/50\n",
      "448/448 [==============================] - 290s 647ms/step - loss: 0.9437 - accuracy: 0.6495 - val_loss: 1.0859 - val_accuracy: 0.5972\n",
      "Epoch 22/50\n",
      "448/448 [==============================] - 246s 550ms/step - loss: 0.9244 - accuracy: 0.6584 - val_loss: 1.0807 - val_accuracy: 0.5982\n",
      "Epoch 23/50\n",
      "448/448 [==============================] - 212s 474ms/step - loss: 0.8989 - accuracy: 0.6679 - val_loss: 1.0687 - val_accuracy: 0.6035\n",
      "Epoch 24/50\n",
      "448/448 [==============================] - 207s 462ms/step - loss: 0.8795 - accuracy: 0.6773 - val_loss: 1.0656 - val_accuracy: 0.6095\n",
      "Epoch 25/50\n",
      "448/448 [==============================] - 213s 476ms/step - loss: 0.8609 - accuracy: 0.6862 - val_loss: 1.0712 - val_accuracy: 0.6070\n",
      "Epoch 26/50\n",
      "448/448 [==============================] - 282s 630ms/step - loss: 0.8333 - accuracy: 0.6908 - val_loss: 1.0630 - val_accuracy: 0.6078\n",
      "Epoch 27/50\n",
      "448/448 [==============================] - 274s 613ms/step - loss: 0.8118 - accuracy: 0.7029 - val_loss: 1.0617 - val_accuracy: 0.6102\n",
      "Epoch 28/50\n",
      "448/448 [==============================] - 238s 531ms/step - loss: 0.7929 - accuracy: 0.7101 - val_loss: 1.0633 - val_accuracy: 0.6124\n",
      "Epoch 29/50\n",
      "448/448 [==============================] - 230s 513ms/step - loss: 0.7765 - accuracy: 0.7156 - val_loss: 1.0608 - val_accuracy: 0.6141\n",
      "Epoch 30/50\n",
      "448/448 [==============================] - 213s 476ms/step - loss: 0.7515 - accuracy: 0.7279 - val_loss: 1.0612 - val_accuracy: 0.6165\n",
      "Epoch 31/50\n",
      "448/448 [==============================] - 217s 485ms/step - loss: 0.7275 - accuracy: 0.7340 - val_loss: 1.0675 - val_accuracy: 0.6173\n",
      "Epoch 32/50\n",
      "448/448 [==============================] - 270s 603ms/step - loss: 0.7063 - accuracy: 0.7425 - val_loss: 1.0721 - val_accuracy: 0.6141\n",
      "Epoch 33/50\n",
      "448/448 [==============================] - 303s 676ms/step - loss: 0.6813 - accuracy: 0.7528 - val_loss: 1.0678 - val_accuracy: 0.6187\n",
      "Epoch 34/50\n",
      "448/448 [==============================] - 273s 608ms/step - loss: 0.6627 - accuracy: 0.7606 - val_loss: 1.0712 - val_accuracy: 0.6170\n",
      "Epoch 35/50\n",
      "448/448 [==============================] - 227s 507ms/step - loss: 0.6436 - accuracy: 0.7649 - val_loss: 1.0742 - val_accuracy: 0.6218\n",
      "Epoch 36/50\n",
      "448/448 [==============================] - 277s 618ms/step - loss: 0.6305 - accuracy: 0.7696 - val_loss: 1.0746 - val_accuracy: 0.6172\n",
      "Epoch 37/50\n",
      "448/448 [==============================] - 284s 633ms/step - loss: 0.6061 - accuracy: 0.7773 - val_loss: 1.0944 - val_accuracy: 0.6217\n",
      "Epoch 38/50\n",
      "448/448 [==============================] - 346s 772ms/step - loss: 0.5900 - accuracy: 0.7870 - val_loss: 1.0869 - val_accuracy: 0.6215\n",
      "Epoch 39/50\n",
      "448/448 [==============================] - 311s 694ms/step - loss: 0.5776 - accuracy: 0.7933 - val_loss: 1.0902 - val_accuracy: 0.6214\n",
      "Epoch 40/50\n",
      "448/448 [==============================] - 276s 615ms/step - loss: 0.5553 - accuracy: 0.8015 - val_loss: 1.1025 - val_accuracy: 0.6219\n",
      "Epoch 41/50\n",
      "448/448 [==============================] - 276s 616ms/step - loss: 0.5382 - accuracy: 0.8073 - val_loss: 1.0912 - val_accuracy: 0.6211\n",
      "Epoch 42/50\n",
      "448/448 [==============================] - 278s 620ms/step - loss: 0.5204 - accuracy: 0.8121 - val_loss: 1.1218 - val_accuracy: 0.6251\n",
      "Epoch 43/50\n",
      "448/448 [==============================] - 275s 614ms/step - loss: 0.4926 - accuracy: 0.8209 - val_loss: 1.1300 - val_accuracy: 0.6283\n",
      "Epoch 44/50\n",
      "448/448 [==============================] - 276s 616ms/step - loss: 0.4824 - accuracy: 0.8279 - val_loss: 1.1326 - val_accuracy: 0.6281\n",
      "Epoch 45/50\n",
      "448/448 [==============================] - 275s 613ms/step - loss: 0.4768 - accuracy: 0.8279 - val_loss: 1.1214 - val_accuracy: 0.6286\n",
      "Epoch 46/50\n",
      "448/448 [==============================] - 274s 612ms/step - loss: 0.4580 - accuracy: 0.8362 - val_loss: 1.1325 - val_accuracy: 0.6246\n",
      "Epoch 47/50\n",
      "448/448 [==============================] - 273s 610ms/step - loss: 0.4437 - accuracy: 0.8414 - val_loss: 1.1287 - val_accuracy: 0.6253\n",
      "Epoch 48/50\n",
      "448/448 [==============================] - 271s 605ms/step - loss: 0.4233 - accuracy: 0.8485 - val_loss: 1.1615 - val_accuracy: 0.6257\n",
      "Epoch 49/50\n",
      "448/448 [==============================] - 270s 603ms/step - loss: 0.4139 - accuracy: 0.8519 - val_loss: 1.1614 - val_accuracy: 0.6272\n",
      "Epoch 50/50\n",
      "448/448 [==============================] - 291s 649ms/step - loss: 0.4016 - accuracy: 0.8536 - val_loss: 1.1578 - val_accuracy: 0.6264\n"
     ]
    }
   ],
   "source": [
    "# Train the neural network/model\n",
    "emotion_model_info = emotion_model.fit_generator(\n",
    "        train_generator,\n",
    "        steps_per_epoch=28709 // 64,\n",
    "        epochs=50,\n",
    "        validation_data=validation_generator,\n",
    "        validation_steps=7178 // 64)\n",
    "# save model structure in jason file\n",
    "model_json = emotion_model.to_json()\n",
    "with open(\"emotion_model.json\", \"w\") as json_file:\n",
    "    json_file.write(model_json)\n",
    "\n",
    "# save trained model weight in .h5 file\n",
    "emotion_model.save_weights('emotion_model.h5')"
   ]
  },
  {
   "cell_type": "markdown",
   "id": "5dda78ea",
   "metadata": {},
   "source": [
    "Accuracy = 0.8536 "
   ]
  },
  {
   "cell_type": "code",
   "execution_count": null,
   "id": "ca6b5f3a",
   "metadata": {},
   "outputs": [],
   "source": []
  }
 ],
 "metadata": {
  "kernelspec": {
   "display_name": "Python 3 (ipykernel)",
   "language": "python",
   "name": "python3"
  },
  "language_info": {
   "codemirror_mode": {
    "name": "ipython",
    "version": 3
   },
   "file_extension": ".py",
   "mimetype": "text/x-python",
   "name": "python",
   "nbconvert_exporter": "python",
   "pygments_lexer": "ipython3",
   "version": "3.10.11"
  }
 },
 "nbformat": 4,
 "nbformat_minor": 5
}
